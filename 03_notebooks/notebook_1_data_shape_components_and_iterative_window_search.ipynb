{
 "cells": [
  {
   "cell_type": "markdown",
   "id": "b5a5af89",
   "metadata": {},
   "source": [
    "# Notebook 1: Data, shape components, and iterative window search"
   ]
  },
  {
   "cell_type": "markdown",
   "id": "12a6f831",
   "metadata": {},
   "source": [
    "---"
   ]
  },
  {
   "cell_type": "markdown",
   "id": "b67aa84c",
   "metadata": {},
   "source": [
    "><font size=\"3\"> This is the first of three methods notebooks associated with the [pub](https://research.arcadiascience.com/pub/result-comparative-crawling) \"*Comparative analyses reveal substantial movement variation among amoeboid cells*\". Here, shape components will be calculated from cell images (via PCA) and an optimal window size search for the downstream movement space will be run. Cell images are expected to be segmented, centered, and scaled/normalized so that each cell posseses a similar area and overall orientation.  \n",
    ">\n",
    "><font size=\"3\"> All the necessary data and code for reproducing the pub are available via [GitHub](https://github.com/Arcadia-Science/comparative-amoeboid-crawling).\n",
    ">\n",
    "><font size=\"3\"> **Note:** *this notebook contains lines to optionally save out intermediate files. For the sake of reproducing the published figures exactly, pre-computed versions of these files have also been made available in the GitHub repository.*"
   ]
  },
  {
   "cell_type": "markdown",
   "id": "7e5de587",
   "metadata": {},
   "source": [
    "---"
   ]
  },
  {
   "cell_type": "markdown",
   "id": "4912edf5",
   "metadata": {},
   "source": [
    "## Initiating workspace and loading data"
   ]
  },
  {
   "cell_type": "markdown",
   "id": "1f924e2e",
   "metadata": {},
   "source": [
    "<font size=\"3\"> Set working directory."
   ]
  },
  {
   "cell_type": "code",
   "execution_count": 1,
   "id": "c061c50b",
   "metadata": {
    "vscode": {
     "languageId": "r"
    }
   },
   "outputs": [
    {
     "name": "stderr",
     "output_type": "stream",
     "text": [
      "here() starts at /Users/ryanyork/Documents/Research/github/comparative-amoeboid-crawling\n",
      "\n"
     ]
    },
    {
     "data": {
      "text/html": [
       "'/Users/ryanyork/Documents/Research/github/comparative-amoeboid-crawling'"
      ],
      "text/latex": [
       "'/Users/ryanyork/Documents/Research/github/comparative-amoeboid-crawling'"
      ],
      "text/markdown": [
       "'/Users/ryanyork/Documents/Research/github/comparative-amoeboid-crawling'"
      ],
      "text/plain": [
       "[1] \"/Users/ryanyork/Documents/Research/github/comparative-amoeboid-crawling\""
      ]
     },
     "metadata": {},
     "output_type": "display_data"
    }
   ],
   "source": [
    "library(here)\n",
    "here::here() # Should be set to the root of the repository\n",
    "setwd(here::here())"
   ]
  },
  {
   "cell_type": "markdown",
   "id": "be665564",
   "metadata": {},
   "source": [
    "<font size=\"3\"> Source functions."
   ]
  },
  {
   "cell_type": "code",
   "execution_count": 2,
   "id": "22a0a037",
   "metadata": {
    "vscode": {
     "languageId": "r"
    }
   },
   "outputs": [],
   "source": [
    "suppressPackageStartupMessages(source('01_utils/plotting_functions.R'))\n",
    "suppressPackageStartupMessages(source('01_utils/treble_functions.R'))\n",
    "suppressPackageStartupMessages(source('01_utils/utility_functions.R'))"
   ]
  },
  {
   "cell_type": "markdown",
   "id": "7f02be74",
   "metadata": {},
   "source": [
    "<font size=\"3\"> Download data from original publication via the Riken SSDB repository (Note: the directory is ~3GB). More details on these data be found in the original publication and in the [pub](https://research.arcadiascience.com/pub/result-comparative-crawling) associated with this notebook."
   ]
  },
  {
   "cell_type": "markdown",
   "id": "572726fd",
   "metadata": {},
   "source": [
    "<font size=\"3\"> The intermediate data file used in this notebook is in this file: [00_data/cell_matrices.RDS](../00_data/cell_matrices.RDS). If you'd like to go through the process of downloading the source data and re-building this file, you can continue executing the notebook. If you'd like use the cached version provided as part of this repository, skip ahead to the [Calculating shape components via PCA](#compute_section) section."
   ]
  },
  {
   "cell_type": "code",
   "execution_count": 3,
   "id": "5192a434",
   "metadata": {
    "vscode": {
     "languageId": "r"
    }
   },
   "outputs": [],
   "source": [
    "system('wget https://ssbd.riken.jp/data/ssbd-000167/repos/Fig1.zip')"
   ]
  },
  {
   "cell_type": "markdown",
   "id": "0c66685b",
   "metadata": {},
   "source": [
    "<font size=\"3\"> Unzip data."
   ]
  },
  {
   "cell_type": "code",
   "execution_count": 4,
   "id": "47a6a807",
   "metadata": {
    "vscode": {
     "languageId": "r"
    }
   },
   "outputs": [],
   "source": [
    "system('unzip Fig1.zip')"
   ]
  },
  {
   "cell_type": "markdown",
   "id": "5d01ee6d",
   "metadata": {},
   "source": [
    "<font size=\"3\"> Create cell type directories."
   ]
  },
  {
   "cell_type": "code",
   "execution_count": 5,
   "id": "8893e5f4",
   "metadata": {
    "vscode": {
     "languageId": "r"
    }
   },
   "outputs": [],
   "source": [
    "system('mkdir 00_data/cell_images/')"
   ]
  },
  {
   "cell_type": "markdown",
   "id": "86c72f46",
   "metadata": {},
   "source": [
    "<font size=\"3\"> Move data into relevant directories."
   ]
  },
  {
   "cell_type": "code",
   "execution_count": 6,
   "id": "9ea201a1",
   "metadata": {
    "vscode": {
     "languageId": "r"
    }
   },
   "outputs": [],
   "source": [
    "system('mv Fig1/Fig1b/Dicty_WTStarved/ 00_data/cell_images/')\n",
    "system('mv Fig1/Fig1b/HL60_WT/ 00_data/cell_images/')\n",
    "system('mv Fig1/Fig1b/Keratocyte/ 00_data/cell_images/')"
   ]
  },
  {
   "cell_type": "markdown",
   "id": "30fec5c9",
   "metadata": {},
   "source": [
    "<font size=\"3\"> Load and process cell image data. Here, we are loading in segmented, centered, and scaled images of the 3 cell types included in the dataset (human HL60 cells, cichlid fish keratocytes, and the slime model *Dictyostelium*), appending the corresponding matrices, and saving as compiled datasets."
   ]
  },
  {
   "cell_type": "code",
   "execution_count": 7,
   "id": "0053c6e4",
   "metadata": {
    "vscode": {
     "languageId": "r"
    }
   },
   "outputs": [],
   "source": [
    "#Set working directory\n",
    "cell_image_directory = here::here('00_data', 'cell_images')\n",
    "setwd(cell_image_directory)\n",
    "\n",
    "#List directories\n",
    "dirs = list.files()\n",
    "\n",
    "#Loop through and load each cell type\n",
    "dat = list()\n",
    "for(i in 1:length(dirs)){\n",
    "  \n",
    "  #Load images\n",
    "  tmp = load_images(dirs[i])\n",
    "  \n",
    "  #Combine\n",
    "  x = do.call(rbind, lapply(tmp$images, function(x) do.call(rbind, x)))\n",
    "  \n",
    "  #Add rownames\n",
    "  rownames(x) = paste(rep(dirs[i], nrow(x)), tmp$names, 1:nrow(x), sep = '_')\n",
    "  \n",
    "  #Add to list\n",
    "  dat[[dirs[i]]] = x\n",
    "  \n",
    "  #Return to higher directory\n",
    "  setwd('../')\n",
    "}\n",
    "                        \n",
    "#Return to base directory\n",
    "setwd('../../')\n",
    " \n",
    "#Simplify names\n",
    "names(dat) = c('dicty', 'hl60', 'keratocyte')"
   ]
  },
  {
   "cell_type": "markdown",
   "id": "435e11e0",
   "metadata": {},
   "source": [
    "<font size=\"3\"> Save (commented out for now since this file is provided in the associated GitHub repository)."
   ]
  },
  {
   "cell_type": "code",
   "execution_count": 8,
   "id": "f26d92c4",
   "metadata": {
    "vscode": {
     "languageId": "r"
    }
   },
   "outputs": [],
   "source": [
    "#saveRDS(dat, '00_data/cell_matrices.RDS')"
   ]
  },
  {
   "cell_type": "markdown",
   "id": "b592e5a2",
   "metadata": {},
   "source": [
    "<font size=\"3\"> Clean up."
   ]
  },
  {
   "cell_type": "code",
   "execution_count": 9,
   "id": "64ea2a90",
   "metadata": {
    "vscode": {
     "languageId": "r"
    }
   },
   "outputs": [],
   "source": [
    "system('rm -r Fig1')\n",
    "system('rm Fig1.zip')\n",
    "system('rm -r 00_data/cell_images/')"
   ]
  },
  {
   "cell_type": "markdown",
   "id": "4fdc5535",
   "metadata": {},
   "source": [
    "<a id=\"compute_section\"></a>\n",
    "## Calculating shape components via PCA"
   ]
  },
  {
   "cell_type": "markdown",
   "id": "ce851eee",
   "metadata": {},
   "source": [
    "><font size=\"3\"> In this section we will use principal component analysis (PCA) to identify **shape components** from the processed cell images.  </font>"
   ]
  },
  {
   "cell_type": "markdown",
   "id": "4bdca09d",
   "metadata": {},
   "source": [
    "---"
   ]
  },
  {
   "cell_type": "markdown",
   "id": "c50430d2",
   "metadata": {},
   "source": [
    "<font size=\"3\"> Load data."
   ]
  },
  {
   "cell_type": "code",
   "execution_count": 10,
   "id": "5199b773",
   "metadata": {
    "vscode": {
     "languageId": "r"
    }
   },
   "outputs": [],
   "source": [
    "dat = readRDS('00_data/cell_matrices.RDS')"
   ]
  },
  {
   "cell_type": "markdown",
   "id": "1e51313a",
   "metadata": {},
   "source": [
    "<font size=\"3\"> Run principal components analysis."
   ]
  },
  {
   "cell_type": "code",
   "execution_count": null,
   "id": "cf0f5dcf",
   "metadata": {
    "vscode": {
     "languageId": "r"
    }
   },
   "outputs": [],
   "source": [
    "pca = prcomp(dat)"
   ]
  },
  {
   "cell_type": "markdown",
   "id": "80cdf714",
   "metadata": {},
   "source": [
    "<font size=\"3\"> Plot variance explained."
   ]
  },
  {
   "cell_type": "code",
   "execution_count": null,
   "id": "311eb4ec",
   "metadata": {
    "vscode": {
     "languageId": "r"
    }
   },
   "outputs": [],
   "source": [
    "plot(cumsum((pca$sdev)^2/sum(((pca$sdev)^2)))[1:30]*100,\n",
    "     ylab = '% Variance explained',\n",
    "     xlab = 'n PCs', \n",
    "     pch = 20, \n",
    "     cex = 2,\n",
    "     cex.axis = 1.5, \n",
    "     cex.lab = 1.5, \n",
    "     bty = 'n', \n",
    "     ylim = c(0,100))"
   ]
  },
  {
   "cell_type": "markdown",
   "id": "a1a49b46",
   "metadata": {},
   "source": [
    "---"
   ]
  },
  {
   "cell_type": "markdown",
   "id": "49df1aac",
   "metadata": {},
   "source": [
    "><font size=\"3\"> Judging from the above plot, it looks like the majority of variance is explained by the first ~5PCs and the overall distribution levels off at ~15PCs. \n",
    ">   \n",
    "><font size=\"3\">Let's take a look at the eigenvectors to see which aspects of cell shape are described by each PC. "
   ]
  },
  {
   "cell_type": "markdown",
   "id": "c2ea85e7",
   "metadata": {},
   "source": [
    "---"
   ]
  },
  {
   "cell_type": "markdown",
   "id": "8e670268",
   "metadata": {},
   "source": [
    "<font size=\"3\"> Plot eigenvectors (for first n **shape components**)."
   ]
  },
  {
   "cell_type": "code",
   "execution_count": null,
   "id": "2f7032eb",
   "metadata": {
    "vscode": {
     "languageId": "r"
    }
   },
   "outputs": [],
   "source": [
    "par(mfrow = c(6,6), mar = c(1,1,1,1))\n",
    "invisible(apply(pca$rotation[,1:36], 2, function(x) image(matrix(x, nrow = 64),\n",
    "                                                          col = bluered(100),\n",
    "                                                          bty = 'n', \n",
    "                                                          xaxt = 'n', \n",
    "                                                          yaxt = 'n')))"
   ]
  },
  {
   "cell_type": "markdown",
   "id": "20832ce2",
   "metadata": {},
   "source": [
    "<font size=\"3\"> Extract informative PCs (for n components; here the first 15 PCs)."
   ]
  },
  {
   "cell_type": "code",
   "execution_count": null,
   "id": "63d8649f",
   "metadata": {
    "vscode": {
     "languageId": "r"
    }
   },
   "outputs": [],
   "source": [
    "s = pca$x[,1:15]"
   ]
  },
  {
   "cell_type": "markdown",
   "id": "ecdd25be",
   "metadata": {},
   "source": [
    "<font size=\"3\"> Calculate the autocorrelation of these PCs (useful for getting an initial sense of their temporal structure)."
   ]
  },
  {
   "cell_type": "code",
   "execution_count": null,
   "id": "5988ce5e",
   "metadata": {
    "vscode": {
     "languageId": "r"
    }
   },
   "outputs": [],
   "source": [
    "res = apply(s, 2, function(x) acf(x, lag = 50, plot = FALSE)$acf[,,1])"
   ]
  },
  {
   "cell_type": "markdown",
   "id": "833ae9c7",
   "metadata": {},
   "source": [
    "<font size=\"3\"> Plot the autocorrelation distributions."
   ]
  },
  {
   "cell_type": "code",
   "execution_count": null,
   "id": "5f33146f",
   "metadata": {
    "vscode": {
     "languageId": "r"
    }
   },
   "outputs": [],
   "source": [
    "plot(res[,1], \n",
    "     type = 'l', \n",
    "     ylim = c(-1,1), \n",
    "     ylab = 'Autocorrelation', \n",
    "     bty = 'n',\n",
    "     cex.axis = 1.5,\n",
    "     cex.lab = 1.5,\n",
    "     xlab = 'Time')\n",
    "for(i in 2:ncol(res)){\n",
    "  lines(res[,i])\n",
    "}"
   ]
  },
  {
   "cell_type": "markdown",
   "id": "855d74e1",
   "metadata": {},
   "source": [
    "<font size=\"3\"> Save (commented out for now since these files are provided in the associated GitHub repository)."
   ]
  },
  {
   "cell_type": "code",
   "execution_count": null,
   "id": "7d4c137d",
   "metadata": {
    "vscode": {
     "languageId": "r"
    }
   },
   "outputs": [],
   "source": [
    "#saveRDS(pca, '02_analysis_files/shape_pca_full.RDS')\n",
    "#saveRDS(s, '02_analysis_files/shape_pca_15_pcs.RDS')"
   ]
  },
  {
   "cell_type": "markdown",
   "id": "5c538c15",
   "metadata": {},
   "source": [
    "## Running the iterative window search"
   ]
  },
  {
   "cell_type": "markdown",
   "id": "6115ba03",
   "metadata": {},
   "source": [
    "><font size=\"3\"> Now that we have identified a reduced representation of the raw data (in the form of 15 **shape components**), we can begin to think making sense of how these features very over time and relate to movement. \n",
    ">  \n",
    "><font size=\"3\"> A powerful way of representing the changing features over time is to embed them in a low-dimensional, continuous **'movement space'**. One can think of spaces like this as interpretable maps of what movements the different cells can do. Movements of individual cells over time can then be mapped in the space, producing unique **'trajectories'** between different movements.\n",
    ">  \n",
    "><font size=\"3\"> A key decision when producing one of these maps is to decide how to bin the features into windows. Using windows is important here since movements don't happen instantaneously; factors such as intertia make it so that movements occur over a variety of timescales, the length of which determine the overall structure of movement over time.\n",
    "> \n",
    "><font size=\"3\"> In this chunk we will explore how using different window sizes effects the structure of the downstream **movement spaces**. \n",
    ">\n",
    "><font size=\"3\">This will be done by testing a range of window sizes (here, ranging in size from 1 frame to 50 frames) using an **'iterative window search'** procedure.  </font>"
   ]
  },
  {
   "cell_type": "markdown",
   "id": "d1dcd652",
   "metadata": {},
   "source": [
    "---"
   ]
  },
  {
   "cell_type": "markdown",
   "id": "661143b9",
   "metadata": {},
   "source": [
    "<font size=\"3\"> Load PCs."
   ]
  },
  {
   "cell_type": "code",
   "execution_count": null,
   "id": "fdf856ba",
   "metadata": {
    "vscode": {
     "languageId": "r"
    }
   },
   "outputs": [],
   "source": [
    "s = readRDS('02_analysis_files/shape_pca_15_pcs.RDS')"
   ]
  },
  {
   "cell_type": "markdown",
   "id": "148cdb50",
   "metadata": {},
   "source": [
    "<font size=\"3\"> Split data into n chunks (to allow for comparison across replicates during iterative window search)."
   ]
  },
  {
   "cell_type": "code",
   "execution_count": null,
   "id": "cc402394",
   "metadata": {
    "vscode": {
     "languageId": "r"
    }
   },
   "outputs": [],
   "source": [
    "s = list(s[1:500,], s[501:1000,], s[1001:1500,], s[1501:2000,], s[2001:2500,], s[2501:3000,],\n",
    "         s[3001:3500,], s[3501:4000,], s[4001:4500,], s[4501:5000,], s[5001:5500,], s[5501:6000,],\n",
    "         s[6001:6500,], s[6501:7000,], s[7001:7500,])"
   ]
  },
  {
   "cell_type": "markdown",
   "id": "c47e64cb",
   "metadata": {},
   "source": [
    "<font size=\"3\"> Set up a range of window sizes to test (here 1 to 50 frames)."
   ]
  },
  {
   "cell_type": "code",
   "execution_count": null,
   "id": "11586169",
   "metadata": {
    "vscode": {
     "languageId": "r"
    }
   },
   "outputs": [],
   "source": [
    "toSweep = 1:50"
   ]
  },
  {
   "cell_type": "markdown",
   "id": "8c36b50c",
   "metadata": {},
   "source": [
    "<font size=\"3\"> Initialize an empty list to save results into."
   ]
  },
  {
   "cell_type": "code",
   "execution_count": null,
   "id": "acccdc7d",
   "metadata": {
    "vscode": {
     "languageId": "r"
    }
   },
   "outputs": [],
   "source": [
    "iterative_windows = list()"
   ]
  },
  {
   "cell_type": "markdown",
   "id": "604cf603",
   "metadata": {},
   "source": [
    "<font size=\"3\"> Run the iterative window search and save results."
   ]
  },
  {
   "cell_type": "code",
   "execution_count": null,
   "id": "d964c106",
   "metadata": {
    "vscode": {
     "languageId": "r"
    }
   },
   "outputs": [],
   "source": [
    "#Progress bar\n",
    "pb <- txtProgressBar(min = 0,      \n",
    "                     max = length(toSweep), \n",
    "                     style = 3,    \n",
    "                     width = 50,\n",
    "                     char = \".\")\n",
    "\n",
    "for(i in 1:length(toSweep)){\n",
    "    \n",
    "  #Update progress bar\n",
    "  setTxtProgressBar(pb, i)\n",
    "\n",
    "  #Function\n",
    "  iterative_windows[[as.character(toSweep[i])]] = invisible(iterative_umap(s,\n",
    "                                                            plot = FALSE,\n",
    "                                                            window_size = toSweep[i]))}"
   ]
  },
  {
   "cell_type": "markdown",
   "id": "9ad574bb",
   "metadata": {},
   "source": [
    "<font size=\"3\"> Save (commented out for now since this file is provided in the associated GitHub repository)."
   ]
  },
  {
   "cell_type": "code",
   "execution_count": null,
   "id": "aa451246",
   "metadata": {
    "vscode": {
     "languageId": "r"
    }
   },
   "outputs": [],
   "source": [
    "#saveRDS(iterative_windows, '02_analysis_files/iterative_windows.RDS')"
   ]
  },
  {
   "cell_type": "markdown",
   "id": "baeb7e9c",
   "metadata": {},
   "source": [
    "## Analyzing iterative windows"
   ]
  },
  {
   "cell_type": "markdown",
   "id": "4b29ec0d",
   "metadata": {},
   "source": [
    "><font size=\"3\"> In the above chunk we generated sample movement spaces for a range of window sizes (from 1 frame to 50 frames). Now, we will explore how to compare these results in order to determine the window size we want to use.\n",
    ">\n",
    "><font size=\"3\"> We will empirically compare the movement spaces generated by the different window sizes. Specifically, aspects of their structural and temporal properties will be analyzed using a variety of measures. \n",
    ">\n",
    "><font size=\"3\"> We will use **Procrustes distance** and **Euclidean distance** to assess variation in the global (**Procrustes**) and local (**Euclidean**) structure of the movement spaces. \n",
    "> \n",
    "><font size=\"3\"> We will then measure the **recurrence** of each movement space to assess their temporal properties. Here, we define **recurrence** as the distribution of times it takes to return to specific regions of movement space. This is a useful measure of how stereotyped trajectories through movement space are, allowing us to infer which spaces seem to be capturing repepitive movement patterns.\n",
    ">\n",
    "><font size=\"3\"> Finally, we will use some measures from fractal geometry - the **fractal dimension** and **Hurst exponent** - to infer local (**fractal dimension**) and longer-term (**Hurst exponent**) structure in the trajectories through movement space. We are often looking for spaces with less long-term memory and more switching between states (i.e. **Hurst exponents** closer to 0.5 and lower values for the **fractal dimension**)."
   ]
  },
  {
   "cell_type": "markdown",
   "id": "ce770a51",
   "metadata": {},
   "source": [
    "---"
   ]
  },
  {
   "cell_type": "markdown",
   "id": "34a1c4a6",
   "metadata": {},
   "source": [
    "<font size=\"3\"> Load iterative windows results."
   ]
  },
  {
   "cell_type": "code",
   "execution_count": null,
   "id": "c2bcc604",
   "metadata": {
    "vscode": {
     "languageId": "r"
    }
   },
   "outputs": [],
   "source": [
    "iterative_windows = readRDS('02_analysis_files/iterative_windows.RDS')"
   ]
  },
  {
   "cell_type": "markdown",
   "id": "ae5fb0d6",
   "metadata": {},
   "source": [
    "<font size=\"3\"> Select just UMAPs."
   ]
  },
  {
   "cell_type": "code",
   "execution_count": null,
   "id": "6299d091",
   "metadata": {
    "vscode": {
     "languageId": "r"
    }
   },
   "outputs": [],
   "source": [
    "iterative_windows = lapply(iterative_windows, function(x) x$umaps)"
   ]
  },
  {
   "cell_type": "markdown",
   "id": "90ab1073",
   "metadata": {},
   "source": [
    "<font size=\"3\"> Calculate Procrustes and Euclidean distance for all iterative window sizes."
   ]
  },
  {
   "cell_type": "code",
   "execution_count": null,
   "id": "37840041",
   "metadata": {
    "vscode": {
     "languageId": "r"
    }
   },
   "outputs": [],
   "source": [
    "iterative_windows_pr = lapply(iterative_windows, function(y) run_procrustes(y)$procrustes)\n",
    "iterative_windows_dist = lapply(iterative_windows, function(y) run_procrustes(y)$euclidean_distances)"
   ]
  },
  {
   "cell_type": "markdown",
   "id": "8e4fcbad",
   "metadata": {},
   "source": [
    "<font size=\"3\"> Plot results."
   ]
  },
  {
   "cell_type": "code",
   "execution_count": null,
   "id": "d3dc6075",
   "metadata": {
    "scrolled": true,
    "vscode": {
     "languageId": "r"
    }
   },
   "outputs": [],
   "source": [
    "par(mfrow = c(2,2))\n",
    "#Full distributions\n",
    "#Procrustes\n",
    "invisible(plot_results(iterative_windows_pr,\n",
    "             ylim = c(0, 10),\n",
    "             ylab = \"RMSE\",\n",
    "             xlab = \"Window size (frames)\",\n",
    "             plot_as_lines = TRUE))\n",
    "\n",
    "#Euclidean\n",
    "invisible(plot_results(iterative_windows_dist,\n",
    "             ylim = c(0, 1000),\n",
    "             ylab = \"Mean Euclidean distance\",\n",
    "             xlab = \"Window size (frames)\",\n",
    "             plot_as_lines = TRUE))\n",
    "\n",
    "#As variance\n",
    "#Procrustes\n",
    "invisible(plot_variance(iterative_windows_pr,\n",
    "                       ylim = c(0, 0.4),\n",
    "                       ylab = \"RMSE\",\n",
    "                       xlab = \"Window size (frames)\",\n",
    "                       return = TRUE))\n",
    "\n",
    "#Euclidean\n",
    "invisible(plot_variance(iterative_windows_dist,\n",
    "                        ylim = c(0, 0.4),\n",
    "                        ylab = \"Mean Euclidean distance\",\n",
    "                        xlab = \"Window size (frames)\"))"
   ]
  },
  {
   "cell_type": "markdown",
   "id": "56733b5a",
   "metadata": {},
   "source": [
    "<font size=\"3\"> Calculate recurrence."
   ]
  },
  {
   "cell_type": "code",
   "execution_count": null,
   "id": "af699189",
   "metadata": {
    "vscode": {
     "languageId": "r"
    }
   },
   "outputs": [],
   "source": [
    "#Initiate empty list to save results\n",
    "recurrence = list()\n",
    "\n",
    "#Calculate recurrence for each window size\n",
    "for(i in 1:length(iterative_windows)){\n",
    "  recurrence[[as.character(names(iterative_windows)[i])]] = calculate_recurrence(iterative_windows[[i]],\n",
    "                                                                                 n_bins = 16)}"
   ]
  },
  {
   "cell_type": "markdown",
   "id": "05b0dc21",
   "metadata": {},
   "source": [
    "<font size=\"3\"> Plot the distribution of recurrence times across replicates."
   ]
  },
  {
   "cell_type": "code",
   "execution_count": null,
   "id": "39e7e176",
   "metadata": {
    "vscode": {
     "languageId": "r"
    }
   },
   "outputs": [],
   "source": [
    "plot_recurrence(recurrence,\n",
    "                mar = c(0.25,0.25,0.25,0.25))"
   ]
  },
  {
   "cell_type": "markdown",
   "id": "a322c195",
   "metadata": {},
   "source": [
    "<font size=\"3\"> Plot aspects of the recurrence time distributions."
   ]
  },
  {
   "cell_type": "code",
   "execution_count": null,
   "id": "77be1de6",
   "metadata": {
    "vscode": {
     "languageId": "r"
    }
   },
   "outputs": [],
   "source": [
    "par(mfrow = c(3,2))\n",
    "\n",
    "#Mean recurrence time per bin\n",
    "means = lapply(recurrence, function(x) unlist(lapply(x, function(y) (median(y$recurrences)))))\n",
    "invisible(plot_results(means,\n",
    "             xlab = \"Window size (frames)\",\n",
    "             ylab = \"Mean recurrence time\",\n",
    "             ylim = c(0,200),\n",
    "             plot_as_lines = TRUE))\n",
    "\n",
    "invisible(plot_variance(means,\n",
    "              xlab = \"Window size (frames)\",\n",
    "              ylab = \"Coefficient of variation\",\n",
    "              ylim = c(0,1)))\n",
    "                                                     \n",
    "#Distribution of window sizes with the maximum # of recurrent bins in behavior space\n",
    "max_bin = lapply(recurrence, function(x) unlist(lapply(x, function(y) (which.max(y$histogram$counts)))))\n",
    "invisible(plot_results(max_bin,\n",
    "             ylim = c(0,200),\n",
    "             plot_as_lines = TRUE,\n",
    "             ylab = \"Maxiumum recurrent bin\"))\n",
    "                                                       \n",
    "invisible(plot_variance(max_bin,\n",
    "              xlab = \"Window size (frames)\",\n",
    "              ylab = \"Coefficient of variation\",\n",
    "              ylim = c(0,2)))\n",
    "                                                       \n",
    "#Total percent of behavior space bins that are recurrent\n",
    "percent_recurrent = lapply(recurrence, function(x) unlist(lapply(x, function(y) y$total_proportion_recurrent)))\n",
    "invisible(plot_results(percent_recurrent,\n",
    "             ylim = c(0,1),\n",
    "             plot_as_lines = TRUE,\n",
    "             ylab = \"Total proportion recurrent\"))\n",
    "\n",
    "invisible(plot_variance(percent_recurrent,\n",
    "              xlab = \"Window size (frames)\",\n",
    "              ylab = \"Coefficient of variation\",\n",
    "              ylim = c(0,0.25)))"
   ]
  },
  {
   "cell_type": "markdown",
   "id": "242b63c7",
   "metadata": {},
   "source": [
    "<font size=\"3\"> Calculate Hurst exponent of each behavior space as a function of window size."
   ]
  },
  {
   "cell_type": "code",
   "execution_count": null,
   "id": "1288542c",
   "metadata": {
    "vscode": {
     "languageId": "r"
    }
   },
   "outputs": [],
   "source": [
    "hurst = list()\n",
    "for(i in 1:length(iterative_windows)){\n",
    "  x = c()\n",
    "  for(j in 1:length(iterative_windows[[i]])){\n",
    "    x = c(x, invisible(hurstexp(iterative_windows[[i]][[j]]$coords, display = FALSE)$Hrs))\n",
    "  }\n",
    "  hurst[[names(iterative_windows)[i]]] = x\n",
    "}\n",
    "\n",
    "h = plot_results(hurst, ylim = c(0,1))"
   ]
  },
  {
   "cell_type": "markdown",
   "id": "92d426ef",
   "metadata": {},
   "source": [
    "<font size=\"3\"> Calculate the fractal dimension of each behavior space."
   ]
  },
  {
   "cell_type": "code",
   "execution_count": null,
   "id": "4e2e3335",
   "metadata": {
    "vscode": {
     "languageId": "r"
    }
   },
   "outputs": [],
   "source": [
    "fd = list()\n",
    "for(i in 1:length(iterative_windows)){\n",
    "  x = c()\n",
    "  for(j in 1:length(iterative_windows[[i]])){\n",
    "    x = c(x, invisible(fd.estimate(iterative_windows[[i]][[j]]$coords)$fd))\n",
    "  }\n",
    "  fd[[names(iterative_windows)[i]]] = x\n",
    "}\n",
    "\n",
    "d = plot_results(fd, ylim = c(1,1.5))"
   ]
  },
  {
   "cell_type": "markdown",
   "id": "c028cf23",
   "metadata": {},
   "source": [
    "<font size=\"3\"> Plot the relationship of Hurst exponent and fractal dimension."
   ]
  },
  {
   "cell_type": "code",
   "execution_count": null,
   "id": "3c21b4ea",
   "metadata": {
    "vscode": {
     "languageId": "r"
    }
   },
   "outputs": [],
   "source": [
    "plot(h$means,\n",
    "     d$means,\n",
    "     type = 'n',\n",
    "     ylab = 'Fractal dimension',\n",
    "     xlab = 'Hurst exponent',\n",
    "     cex.axis = 1.5,\n",
    "     cex.lab = 1.5)\n",
    "text(h$means, d$means,\n",
    "     lab = names(iterative_windows),\n",
    "     cex = 1.5)"
   ]
  },
  {
   "cell_type": "markdown",
   "id": "2f277e35",
   "metadata": {},
   "source": [
    "<font size=\"3\"> Save."
   ]
  },
  {
   "cell_type": "code",
   "execution_count": null,
   "id": "3623cec7",
   "metadata": {
    "vscode": {
     "languageId": "r"
    }
   },
   "outputs": [],
   "source": [
    "saveRDS(recurrence, '02_analysis_files/iterative_windows_recurrence.RDS')"
   ]
  },
  {
   "cell_type": "markdown",
   "id": "cd979a81",
   "metadata": {},
   "source": [
    "## Calculate feature windows of desired size and run UMAP"
   ]
  },
  {
   "cell_type": "markdown",
   "id": "c4012b67",
   "metadata": {},
   "source": [
    "><font size=\"3\"> After analyzing the output of the iterative window search, it looks like a window size of 7 frames appears to yield movement spaces that are structurally similar across data replicates (via the analyses of **Procrustes** and **Euclidean** distances) and display desirable temporal qualities (i.e. show little variance in **recurrence** across replicates).\n",
    ">\n",
    "><font size=\"3\"> In this chunk, we will load in the shape components, extract 7 frame windows for the full dataset, and generate a movement space using the **UMAP** algorithm."
   ]
  },
  {
   "cell_type": "markdown",
   "id": "d8a2e879",
   "metadata": {},
   "source": [
    "---"
   ]
  },
  {
   "cell_type": "markdown",
   "id": "fab6e91a",
   "metadata": {},
   "source": [
    "<font size=\"3\"> Load PCs."
   ]
  },
  {
   "cell_type": "code",
   "execution_count": null,
   "id": "ebd37090",
   "metadata": {
    "vscode": {
     "languageId": "r"
    }
   },
   "outputs": [],
   "source": [
    "s = readRDS('02_analysis_files/shape_pca_15_pcs.RDS')"
   ]
  },
  {
   "cell_type": "markdown",
   "id": "e354ac8c",
   "metadata": {},
   "source": [
    "<font size=\"3\"> Load data."
   ]
  },
  {
   "cell_type": "code",
   "execution_count": null,
   "id": "bba1613c",
   "metadata": {
    "vscode": {
     "languageId": "r"
    }
   },
   "outputs": [],
   "source": [
    "dat = readRDS('00_data/cell_matrices.RDS')"
   ]
  },
  {
   "cell_type": "markdown",
   "id": "6e833ce9",
   "metadata": {},
   "source": [
    "<font size=\"3\"> Get windows of desired size."
   ]
  },
  {
   "cell_type": "code",
   "execution_count": null,
   "id": "4f390b24",
   "metadata": {
    "vscode": {
     "languageId": "r"
    }
   },
   "outputs": [],
   "source": [
    "win = get_windows(s, window_size = 7)"
   ]
  },
  {
   "cell_type": "markdown",
   "id": "2efb0b71",
   "metadata": {},
   "source": [
    "<font size=\"3\"> Run UMAP on windows."
   ]
  },
  {
   "cell_type": "code",
   "execution_count": null,
   "id": "d7216b35",
   "metadata": {
    "vscode": {
     "languageId": "r"
    }
   },
   "outputs": [],
   "source": [
    "u = umap(t(win))"
   ]
  },
  {
   "cell_type": "markdown",
   "id": "f8efa6c4",
   "metadata": {},
   "source": [
    "<font size=\"3\"> Extract layout of UMAP."
   ]
  },
  {
   "cell_type": "code",
   "execution_count": null,
   "id": "421580c3",
   "metadata": {
    "vscode": {
     "languageId": "r"
    }
   },
   "outputs": [],
   "source": [
    "layout = data.frame(x = u$layout[,1],\n",
    "                    y = u$layout[,2])"
   ]
  },
  {
   "cell_type": "markdown",
   "id": "97d7fb6e",
   "metadata": {},
   "source": [
    "<font size=\"3\"> Bin UMAP layout."
   ]
  },
  {
   "cell_type": "code",
   "execution_count": null,
   "id": "3fccbd27",
   "metadata": {
    "vscode": {
     "languageId": "r"
    }
   },
   "outputs": [],
   "source": [
    "layout = bin_umap(layout, \n",
    "                  n_bins = 64)$layout"
   ]
  },
  {
   "cell_type": "markdown",
   "id": "d95f0c29",
   "metadata": {},
   "source": [
    "<font size=\"3\"> Add metadata to layout."
   ]
  },
  {
   "cell_type": "code",
   "execution_count": null,
   "id": "994dede4",
   "metadata": {
    "vscode": {
     "languageId": "r"
    }
   },
   "outputs": [],
   "source": [
    "#Unique ID (cell type + trial)\n",
    "layout$id = rownames(dat)[1:nrow(layout)]\n",
    "\n",
    "#Cell type\n",
    "layout$cell = unlist(lapply(strsplit(layout$id, \"_\"), function(v){v[1]}))\n",
    "\n",
    "#Trial\n",
    "layout$trial = paste(unlist(lapply(strsplit(layout$id, \"_\"), function(v){v[1]})),\n",
    "                     unlist(lapply(strsplit(layout$id, \"_\"), function(v){v[2]})),\n",
    "                     sep = '_')\n",
    "\n",
    "#Time\n",
    "layout$time = paste(unlist(lapply(strsplit(layout$id, \"_\"), function(v){v[3]})))\n",
    "\n",
    "#PCs\n",
    "feat = s[1:nrow(layout),]\n",
    "layout = cbind(feat, layout)"
   ]
  },
  {
   "cell_type": "markdown",
   "id": "5d42253f",
   "metadata": {},
   "source": [
    "<font size=\"3\"> Louvain cluster (used for some downstream analyses)."
   ]
  },
  {
   "cell_type": "code",
   "execution_count": null,
   "id": "284b9da2",
   "metadata": {
    "vscode": {
     "languageId": "r"
    }
   },
   "outputs": [],
   "source": [
    "#Convert layout into graph\n",
    "g = graph_from_data_frame(as.data.frame(\n",
    "  cbind(layout[1:(nrow(layout)-1),]$xy_new,\n",
    "        layout[2:nrow(layout),]$xy_new)), \n",
    "                          directed = FALSE)\n",
    "\n",
    "#Run louvain clustering\n",
    "partition = cluster_louvain(g)\n",
    "\n",
    "#Extract cluster membership\n",
    "m = partition$membership\n",
    "names(m) = partition$names\n",
    "\n",
    "#Add Louvain clusters to layout\n",
    "layout$louvain_cluster = rep(NA, nrow(layout))\n",
    "for(i in 1:length(m)){\n",
    "  layout[layout$xy_new == names(m)[i],]$louvain_cluster = m[i]}"
   ]
  },
  {
   "cell_type": "markdown",
   "id": "4bdd9965",
   "metadata": {},
   "source": [
    "<font size=\"3\"> Save (commented out for now since these files are provided in the associated GitHub repository)."
   ]
  },
  {
   "cell_type": "code",
   "execution_count": null,
   "id": "28c0e9b2",
   "metadata": {
    "vscode": {
     "languageId": "r"
    }
   },
   "outputs": [],
   "source": [
    "#saveRDS(u, '02_analysis_files/behavior_space_full_umap_output.RDS')\n",
    "#saveRDS(layout, '02_analysis_files/behavior_space_layout_annotated.RDS')"
   ]
  }
 ],
 "metadata": {
  "kernelspec": {
   "display_name": "R",
   "language": "R",
   "name": "ir"
  },
  "language_info": {
   "codemirror_mode": "r",
   "file_extension": ".r",
   "mimetype": "text/x-r-source",
   "name": "R",
   "pygments_lexer": "r",
   "version": "4.1.3"
  }
 },
 "nbformat": 4,
 "nbformat_minor": 5
}
